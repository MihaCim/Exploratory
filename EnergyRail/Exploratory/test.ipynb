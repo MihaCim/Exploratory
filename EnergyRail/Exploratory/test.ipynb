{
 "cells": [
  {
   "cell_type": "markdown",
   "metadata": {},
   "source": [
    "# Test case\n",
    "Opis."
   ]
  },
  {
   "cell_type": "code",
<<<<<<< HEAD
   "execution_count": 11,
=======
   "execution_count": 6,
>>>>>>> 95159e4ef954c84f1853f72cfb280c7a253dd0b1
   "metadata": {
    "collapsed": true
   },
   "outputs": [],
   "source": [
    "# \n",
    "import pandas as pd\n",
    "import numpy as np"
   ]
  },
  {
   "cell_type": "markdown",
   "metadata": {},
   "source": [
    "## Loading Data"
   ]
  },
  {
   "cell_type": "code",
   "execution_count": 12,
   "metadata": {
    "collapsed": true
   },
   "outputs": [],
   "source": [
    "# \n",
    "dataDir = \"../Data/Reims/\"\n",
    "df = pd.read_csv(dataDir + \"170830-noheader.csv\")\n",
    "\n",
    "df.drop(0, 0, inplace=True)\n",
    "\n",
    "df.drop('Logic', 1, inplace=True)\n",
    "df.drop('Alarm1-10',1, inplace=True)\n",
    "df.drop('Alarm11-20',1, inplace=True)\n",
    "df.drop('Alarm21-30',1, inplace=True)\n",
    "df.drop('Alarm31-40',1, inplace=True)\n",
    "df.drop('AlarmLP',1, inplace=True)\n",
    "df.drop('AlarmOut',1, inplace=True)"
   ]
  },
  {
   "cell_type": "code",
   "execution_count": 96,
   "metadata": {},
   "outputs": [
    {
     "name": "stderr",
     "output_type": "stream",
     "text": [
      "C:\\Users\\Matej\\Anaconda3\\lib\\site-packages\\IPython\\core\\interactiveshell.py:2698: DtypeWarning: Columns (0,2,3,4,5,6,7,8,9,10,11,12,13,14,15,16,17,18,19,20,21,22,23,24,25,26,27,28,29,30,31,32,33,34,35,36,37,38,39,40,41,42) have mixed types. Specify dtype option on import or set low_memory=False.\n",
      "  interactivity=interactivity, compiler=compiler, result=result)\n"
     ]
    }
   ],
   "source": [
    "df = pd.read_csv(dataDir + \"170830-noheader.csv\")"
   ]
  },
  {
   "cell_type": "code",
<<<<<<< HEAD
   "execution_count": 35,
   "metadata": {},
=======
   "execution_count": 17,
   "metadata": {
    "collapsed": true
   },
>>>>>>> 95159e4ef954c84f1853f72cfb280c7a253dd0b1
   "outputs": [],
   "source": [
    "df.drop('Logic', 1, inplace=True)"
   ]
  },
  {
   "cell_type": "code",
   "execution_count": 97,
   "metadata": {
    "collapsed": true
   },
   "outputs": [],
   "source": [
    "df.drop(0, 0, inplace=True)"
   ]
  },
  {
   "cell_type": "code",
<<<<<<< HEAD
   "execution_count": 103,
   "metadata": {},
=======
   "execution_count": 37,
   "metadata": {
    "collapsed": true
   },
>>>>>>> 95159e4ef954c84f1853f72cfb280c7a253dd0b1
   "outputs": [],
   "source": [
    "df['Date'] = df['Date&Time'];\n",
    "df['Date'] = pd.to_datetime(df['Date'], format='%Y-%m-%d %H:%M:%S');\n"
   ]
  },
  {
   "cell_type": "code",
   "execution_count": 107,
   "metadata": {},
   "outputs": [
    {
     "data": {
      "text/plain": [
       "Timestamp('2017-08-30 04:36:30')"
      ]
     },
     "execution_count": 107,
     "metadata": {},
     "output_type": "execute_result"
    }
   ],
   "source": [
    "df[\"Date\"][1]"
   ]
  },
  {
   "cell_type": "code",
   "execution_count": 104,
   "metadata": {},
   "outputs": [
    {
     "data": {
      "text/plain": [
       "datetime.datetime(2017, 8, 30, 4, 36, 30)"
      ]
     },
     "execution_count": 104,
     "metadata": {},
     "output_type": "execute_result"
    }
   ],
   "source": [
    "from datetime import datetime\n",
    "datetime.strptime('2017-08-30 04:36:30', '%Y-%m-%d %H:%M:%S')"
   ]
  },
  {
   "cell_type": "code",
   "execution_count": 105,
   "metadata": {},
   "outputs": [
    {
     "data": {
      "text/html": [
       "<div>\n",
       "<style>\n",
       "    .dataframe thead tr:only-child th {\n",
       "        text-align: right;\n",
       "    }\n",
       "\n",
       "    .dataframe thead th {\n",
       "        text-align: left;\n",
       "    }\n",
       "\n",
       "    .dataframe tbody tr th {\n",
       "        vertical-align: top;\n",
       "    }\n",
       "</style>\n",
       "<table border=\"1\" class=\"dataframe\">\n",
       "  <thead>\n",
       "    <tr style=\"text-align: right;\">\n",
       "      <th></th>\n",
       "      <th>CH1</th>\n",
       "      <th>CH2</th>\n",
       "      <th>CH3</th>\n",
       "      <th>CH4</th>\n",
       "      <th>CH5</th>\n",
       "      <th>CH6</th>\n",
       "      <th>CH7</th>\n",
       "      <th>CH8</th>\n",
       "      <th>CH9</th>\n",
       "      <th>CH10</th>\n",
       "      <th>CH11</th>\n",
       "      <th>CH12</th>\n",
       "      <th>CH13</th>\n",
       "      <th>CH14</th>\n",
       "      <th>CH15</th>\n",
       "      <th>CH16</th>\n",
       "      <th>CH17</th>\n",
       "      <th>CH18</th>\n",
       "      <th>CH19</th>\n",
       "      <th>CH20</th>\n",
       "    </tr>\n",
       "  </thead>\n",
       "  <tbody>\n",
       "    <tr>\n",
       "      <th>count</th>\n",
       "      <td>71280.000000</td>\n",
       "      <td>71280.000000</td>\n",
       "      <td>71280.000000</td>\n",
       "      <td>71280.000000</td>\n",
       "      <td>71280.000000</td>\n",
       "      <td>71280.000000</td>\n",
       "      <td>71280.000000</td>\n",
       "      <td>71280.000000</td>\n",
       "      <td>71280.000000</td>\n",
       "      <td>71280.000000</td>\n",
       "      <td>71280.000000</td>\n",
       "      <td>71280.000000</td>\n",
       "      <td>71280.000000</td>\n",
       "      <td>71280.000000</td>\n",
       "      <td>71280.000000</td>\n",
       "      <td>71280.000000</td>\n",
       "      <td>71280.000000</td>\n",
       "      <td>71280.000000</td>\n",
       "      <td>71280.000000</td>\n",
       "      <td>71280.000000</td>\n",
       "    </tr>\n",
       "    <tr>\n",
       "      <th>mean</th>\n",
       "      <td>23.898767</td>\n",
       "      <td>22.917724</td>\n",
       "      <td>13409.991358</td>\n",
       "      <td>33599.108866</td>\n",
       "      <td>32.655262</td>\n",
       "      <td>13.639121</td>\n",
       "      <td>4.642941</td>\n",
       "      <td>16.786674</td>\n",
       "      <td>13.230773</td>\n",
       "      <td>43.346424</td>\n",
       "      <td>4.219464</td>\n",
       "      <td>8.683739</td>\n",
       "      <td>16.931604</td>\n",
       "      <td>3.015745</td>\n",
       "      <td>19.042730</td>\n",
       "      <td>-50.511473</td>\n",
       "      <td>826.545020</td>\n",
       "      <td>14.969728</td>\n",
       "      <td>386.121684</td>\n",
       "      <td>4.745123</td>\n",
       "    </tr>\n",
       "    <tr>\n",
       "      <th>std</th>\n",
       "      <td>1.114563</td>\n",
       "      <td>0.608928</td>\n",
       "      <td>8037.998072</td>\n",
       "      <td>20691.101737</td>\n",
       "      <td>6.253907</td>\n",
       "      <td>14.423400</td>\n",
       "      <td>5.227070</td>\n",
       "      <td>60.370939</td>\n",
       "      <td>61.365796</td>\n",
       "      <td>12.061488</td>\n",
       "      <td>8.557644</td>\n",
       "      <td>8.278750</td>\n",
       "      <td>5.582553</td>\n",
       "      <td>5.741558</td>\n",
       "      <td>9.559102</td>\n",
       "      <td>144.876022</td>\n",
       "      <td>56.524759</td>\n",
       "      <td>5.239748</td>\n",
       "      <td>46.680900</td>\n",
       "      <td>4.808652</td>\n",
       "    </tr>\n",
       "    <tr>\n",
       "      <th>min</th>\n",
       "      <td>21.300000</td>\n",
       "      <td>21.300000</td>\n",
       "      <td>-65.000000</td>\n",
       "      <td>-121.000000</td>\n",
       "      <td>-18.300000</td>\n",
       "      <td>-0.190000</td>\n",
       "      <td>-0.120000</td>\n",
       "      <td>-251.600000</td>\n",
       "      <td>-259.600000</td>\n",
       "      <td>25.050000</td>\n",
       "      <td>0.600000</td>\n",
       "      <td>6.000000</td>\n",
       "      <td>15.200000</td>\n",
       "      <td>1.400000</td>\n",
       "      <td>-0.010000</td>\n",
       "      <td>-1045.400000</td>\n",
       "      <td>1.600000</td>\n",
       "      <td>0.500000</td>\n",
       "      <td>1.900000</td>\n",
       "      <td>0.030000</td>\n",
       "    </tr>\n",
       "    <tr>\n",
       "      <th>25%</th>\n",
       "      <td>23.100000</td>\n",
       "      <td>22.500000</td>\n",
       "      <td>5967.000000</td>\n",
       "      <td>14354.000000</td>\n",
       "      <td>27.800000</td>\n",
       "      <td>-0.080000</td>\n",
       "      <td>1.120000</td>\n",
       "      <td>0.200000</td>\n",
       "      <td>-1.900000</td>\n",
       "      <td>35.160000</td>\n",
       "      <td>1.600000</td>\n",
       "      <td>6.700000</td>\n",
       "      <td>16.200000</td>\n",
       "      <td>2.200000</td>\n",
       "      <td>23.840000</td>\n",
       "      <td>-41.900000</td>\n",
       "      <td>810.500000</td>\n",
       "      <td>11.000000</td>\n",
       "      <td>352.500000</td>\n",
       "      <td>1.660000</td>\n",
       "    </tr>\n",
       "    <tr>\n",
       "      <th>50%</th>\n",
       "      <td>23.500000</td>\n",
       "      <td>23.000000</td>\n",
       "      <td>12195.000000</td>\n",
       "      <td>33127.000000</td>\n",
       "      <td>29.900000</td>\n",
       "      <td>10.770000</td>\n",
       "      <td>1.330000</td>\n",
       "      <td>0.900000</td>\n",
       "      <td>-1.100000</td>\n",
       "      <td>41.120000</td>\n",
       "      <td>1.900000</td>\n",
       "      <td>6.900000</td>\n",
       "      <td>16.200000</td>\n",
       "      <td>2.400000</td>\n",
       "      <td>23.850000</td>\n",
       "      <td>-14.800000</td>\n",
       "      <td>820.200000</td>\n",
       "      <td>13.600000</td>\n",
       "      <td>359.000000</td>\n",
       "      <td>1.810000</td>\n",
       "    </tr>\n",
       "    <tr>\n",
       "      <th>75%</th>\n",
       "      <td>24.900000</td>\n",
       "      <td>23.400000</td>\n",
       "      <td>19202.250000</td>\n",
       "      <td>55410.500000</td>\n",
       "      <td>38.700000</td>\n",
       "      <td>24.090000</td>\n",
       "      <td>12.210000</td>\n",
       "      <td>14.200000</td>\n",
       "      <td>9.300000</td>\n",
       "      <td>52.002500</td>\n",
       "      <td>2.100000</td>\n",
       "      <td>7.400000</td>\n",
       "      <td>16.400000</td>\n",
       "      <td>2.400000</td>\n",
       "      <td>23.860000</td>\n",
       "      <td>-7.500000</td>\n",
       "      <td>840.700000</td>\n",
       "      <td>18.900000</td>\n",
       "      <td>435.600000</td>\n",
       "      <td>11.270000</td>\n",
       "    </tr>\n",
       "    <tr>\n",
       "      <th>max</th>\n",
       "      <td>26.600000</td>\n",
       "      <td>24.200000</td>\n",
       "      <td>36544.000000</td>\n",
       "      <td>69083.000000</td>\n",
       "      <td>49.700000</td>\n",
       "      <td>100.180000</td>\n",
       "      <td>41.460000</td>\n",
       "      <td>429.800000</td>\n",
       "      <td>435.800000</td>\n",
       "      <td>84.930000</td>\n",
       "      <td>145.600000</td>\n",
       "      <td>149.600000</td>\n",
       "      <td>141.200000</td>\n",
       "      <td>130.000000</td>\n",
       "      <td>23.890000</td>\n",
       "      <td>602.900000</td>\n",
       "      <td>933.900000</td>\n",
       "      <td>132.000000</td>\n",
       "      <td>467.400000</td>\n",
       "      <td>31.470000</td>\n",
       "    </tr>\n",
       "  </tbody>\n",
       "</table>\n",
       "</div>"
      ],
      "text/plain": [
       "                CH1           CH2           CH3           CH4           CH5  \\\n",
       "count  71280.000000  71280.000000  71280.000000  71280.000000  71280.000000   \n",
       "mean      23.898767     22.917724  13409.991358  33599.108866     32.655262   \n",
       "std        1.114563      0.608928   8037.998072  20691.101737      6.253907   \n",
       "min       21.300000     21.300000    -65.000000   -121.000000    -18.300000   \n",
       "25%       23.100000     22.500000   5967.000000  14354.000000     27.800000   \n",
       "50%       23.500000     23.000000  12195.000000  33127.000000     29.900000   \n",
       "75%       24.900000     23.400000  19202.250000  55410.500000     38.700000   \n",
       "max       26.600000     24.200000  36544.000000  69083.000000     49.700000   \n",
       "\n",
       "                CH6           CH7           CH8           CH9          CH10  \\\n",
       "count  71280.000000  71280.000000  71280.000000  71280.000000  71280.000000   \n",
       "mean      13.639121      4.642941     16.786674     13.230773     43.346424   \n",
       "std       14.423400      5.227070     60.370939     61.365796     12.061488   \n",
       "min       -0.190000     -0.120000   -251.600000   -259.600000     25.050000   \n",
       "25%       -0.080000      1.120000      0.200000     -1.900000     35.160000   \n",
       "50%       10.770000      1.330000      0.900000     -1.100000     41.120000   \n",
       "75%       24.090000     12.210000     14.200000      9.300000     52.002500   \n",
       "max      100.180000     41.460000    429.800000    435.800000     84.930000   \n",
       "\n",
       "               CH11          CH12          CH13          CH14          CH15  \\\n",
       "count  71280.000000  71280.000000  71280.000000  71280.000000  71280.000000   \n",
       "mean       4.219464      8.683739     16.931604      3.015745     19.042730   \n",
       "std        8.557644      8.278750      5.582553      5.741558      9.559102   \n",
       "min        0.600000      6.000000     15.200000      1.400000     -0.010000   \n",
       "25%        1.600000      6.700000     16.200000      2.200000     23.840000   \n",
       "50%        1.900000      6.900000     16.200000      2.400000     23.850000   \n",
       "75%        2.100000      7.400000     16.400000      2.400000     23.860000   \n",
       "max      145.600000    149.600000    141.200000    130.000000     23.890000   \n",
       "\n",
       "               CH16          CH17          CH18          CH19          CH20  \n",
       "count  71280.000000  71280.000000  71280.000000  71280.000000  71280.000000  \n",
       "mean     -50.511473    826.545020     14.969728    386.121684      4.745123  \n",
       "std      144.876022     56.524759      5.239748     46.680900      4.808652  \n",
       "min    -1045.400000      1.600000      0.500000      1.900000      0.030000  \n",
       "25%      -41.900000    810.500000     11.000000    352.500000      1.660000  \n",
       "50%      -14.800000    820.200000     13.600000    359.000000      1.810000  \n",
       "75%       -7.500000    840.700000     18.900000    435.600000     11.270000  \n",
       "max      602.900000    933.900000    132.000000    467.400000     31.470000  "
      ]
     },
     "execution_count": 105,
     "metadata": {},
     "output_type": "execute_result"
    }
   ],
   "source": [
    "df.describe()"
   ]
  },
  {
   "cell_type": "code",
   "execution_count": 98,
   "metadata": {},
   "outputs": [],
   "source": [
    "df.drop('Logic', 1, inplace=True)\n",
    "df.drop('Alarm1-10',1, inplace=True)\n",
    "df.drop('Alarm11-20',1, inplace=True)\n",
    "df.drop('Alarm21-30',1, inplace=True)\n",
    "df.drop('Alarm31-40',1, inplace=True)\n",
    "df.drop('AlarmLP',1, inplace=True)\n",
    "df.drop('AlarmOut',1, inplace=True)"
   ]
  },
  {
   "cell_type": "code",
   "execution_count": 99,
   "metadata": {},
   "outputs": [],
   "source": [
    "i = 21\n",
    "while i != 41:\n",
    "    j = str(i)\n",
    "    df.drop('CH' + j, 1, inplace=True)\n",
    "    i += 1    "
   ]
  },
  {
   "cell_type": "code",
   "execution_count": 61,
   "metadata": {},
   "outputs": [
    {
     "data": {
      "text/plain": [
       "22.8"
      ]
     },
     "execution_count": 61,
     "metadata": {},
     "output_type": "execute_result"
    }
   ],
   "source": [
    "float(df[\"CH1\"][1])"
   ]
  },
  {
   "cell_type": "code",
   "execution_count": 100,
   "metadata": {},
   "outputs": [],
   "source": [
    "i=1\n",
    "while i != 21:\n",
    "    j = str(i)\n",
    "    df['CH' + j ] = pd.to_numeric(df[\"CH\" + j], errors='raise', downcast=None)\n",
    "    i += 1\n",
    "\n"
   ]
  },
  {
   "cell_type": "code",
   "execution_count": 109,
   "metadata": {},
   "outputs": [
    {
     "data": {
      "text/plain": [
       "1          0\n",
       "2        500\n",
       "3          0\n",
       "4        500\n",
       "5          0\n",
       "6        500\n",
       "7          0\n",
       "8        500\n",
       "9          0\n",
       "10       500\n",
       "11         0\n",
       "12       500\n",
       "13         0\n",
       "14       500\n",
       "15         0\n",
       "16       500\n",
       "17         0\n",
       "18       500\n",
       "19         0\n",
       "20       500\n",
       "21         0\n",
       "22       500\n",
       "23         0\n",
       "24       500\n",
       "25         0\n",
       "26       500\n",
       "27         0\n",
       "28       500\n",
       "29         0\n",
       "30       500\n",
       "        ... \n",
       "71251      0\n",
       "71252    500\n",
       "71253      0\n",
       "71254    500\n",
       "71255      0\n",
       "71256    500\n",
       "71257      0\n",
       "71258    500\n",
       "71259      0\n",
       "71260    500\n",
       "71261      0\n",
       "71262    500\n",
       "71263      0\n",
       "71264    500\n",
       "71265      0\n",
       "71266    500\n",
       "71267      0\n",
       "71268    500\n",
       "71269      0\n",
       "71270    500\n",
       "71271      0\n",
       "71272    500\n",
       "71273      0\n",
       "71274    500\n",
       "71275      0\n",
       "71276    500\n",
       "71277      0\n",
       "71278    500\n",
       "71279      0\n",
       "71280    500\n",
       "Name: ms, Length: 71280, dtype: int64"
      ]
     },
     "execution_count": 109,
     "metadata": {},
     "output_type": "execute_result"
    }
   ],
   "source": [
    "df['ms']"
   ]
  },
  {
   "cell_type": "code",
   "execution_count": 108,
   "metadata": {
    "collapsed": true
   },
   "outputs": [],
   "source": [
    "df['ms'] = pd.to_numeric(df[\"ms\"], errors='raise', downcast=None)"
   ]
  },
  {
   "cell_type": "code",
   "execution_count": null,
   "metadata": {
    "collapsed": true
   },
   "outputs": [],
   "source": []
  }
 ],
 "metadata": {
  "kernelspec": {
   "display_name": "Python 3",
   "language": "python",
   "name": "python3"
  },
  "language_info": {
   "codemirror_mode": {
    "name": "ipython",
    "version": 3
   },
   "file_extension": ".py",
   "mimetype": "text/x-python",
   "name": "python",
   "nbconvert_exporter": "python",
   "pygments_lexer": "ipython3",
   "version": "3.6.3"
  }
 },
 "nbformat": 4,
 "nbformat_minor": 2
}
